{
 "cells": [
  {
   "cell_type": "code",
   "execution_count": 2,
   "metadata": {},
   "outputs": [],
   "source": [
    "from SRC.func_geoquery import *\n",
    "import pandas as pd\n",
    "from pymongo import MongoClient\n",
    "dbName = \"mongoProject\"\n",
    "mongodbURL = f\"mongodb://localhost/{dbName}\"\n",
    "client = MongoClient(mongodbURL, connectTimeoutMS=2000, serverSelectionTimeoutMS=2000)\n",
    "client= MongoClient(\"mongodb://localhost/mongoProject\")\n",
    "db = client.get_database()\n",
    "client = MongoClient()"
   ]
  },
  {
   "cell_type": "markdown",
   "metadata": {},
   "source": [
    "Now I am going to find how many places that interest our company are close to three points in London."
   ]
  },
  {
   "cell_type": "code",
   "execution_count": 6,
   "metadata": {
    "scrolled": true
   },
   "outputs": [
    {
     "data": {
      "text/html": [
       "<div>\n",
       "<style scoped>\n",
       "    .dataframe tbody tr th:only-of-type {\n",
       "        vertical-align: middle;\n",
       "    }\n",
       "\n",
       "    .dataframe tbody tr th {\n",
       "        vertical-align: top;\n",
       "    }\n",
       "\n",
       "    .dataframe thead th {\n",
       "        text-align: right;\n",
       "    }\n",
       "</style>\n",
       "<table border=\"1\" class=\"dataframe\">\n",
       "  <thead>\n",
       "    <tr style=\"text-align: right;\">\n",
       "      <th></th>\n",
       "      <th>name</th>\n",
       "      <th>geopoint</th>\n",
       "    </tr>\n",
       "  </thead>\n",
       "  <tbody>\n",
       "    <tr>\n",
       "      <th>0</th>\n",
       "      <td>amiando</td>\n",
       "      <td>{'type': 'Point', 'coordinates': [-0.0836311, ...</td>\n",
       "    </tr>\n",
       "    <tr>\n",
       "      <th>1</th>\n",
       "      <td>Playfish</td>\n",
       "      <td>{'type': 'Point', 'coordinates': [-0.1984802, ...</td>\n",
       "    </tr>\n",
       "    <tr>\n",
       "      <th>2</th>\n",
       "      <td>TweetDeck</td>\n",
       "      <td>{'type': 'Point', 'coordinates': [-0.1262362, ...</td>\n",
       "    </tr>\n",
       "  </tbody>\n",
       "</table>\n",
       "</div>"
      ],
      "text/plain": [
       "        name                                           geopoint\n",
       "0    amiando  {'type': 'Point', 'coordinates': [-0.0836311, ...\n",
       "1   Playfish  {'type': 'Point', 'coordinates': [-0.1984802, ...\n",
       "2  TweetDeck  {'type': 'Point', 'coordinates': [-0.1262362, ..."
      ]
     },
     "metadata": {},
     "output_type": "display_data"
    },
    {
     "data": {
      "text/plain": [
       "{'type': 'Point', 'coordinates': [-0.0836311, 51.5248598]}"
      ]
     },
     "execution_count": 6,
     "metadata": {},
     "output_type": "execute_result"
    }
   ],
   "source": [
    "#These are my offices\n",
    "\n",
    "query_inlondon = {\"latitude\":{\"$gt\":0}}\n",
    "query_inlondon = list(db.inlondon.find(query_inlondon,{\"name\":1, \"geopoint\": 1, \"_id\":0}))\n",
    "inlondon = pd.DataFrame(query_inlondon)\n",
    "display(inlondon)\n",
    "\n",
    "inlondon[\"geopoint\"][0]\n"
   ]
  },
  {
   "cell_type": "markdown",
   "metadata": {},
   "source": [
    "# HEALTH AND WELFARE\n",
    "## Parks"
   ]
  },
  {
   "cell_type": "code",
   "execution_count": 5,
   "metadata": {},
   "outputs": [
    {
     "data": {
      "text/plain": [
       "{'amiando': [{'_id': ObjectId('5efa09f9c130ec0934edf0cd'),\n",
       "   'name': 'Bunhill Fields Burial Ground',\n",
       "   'latitude': 51.523686,\n",
       "   'longitude': -0.088734,\n",
       "   'geopoint': {'type': 'Point', 'coordinates': [-0.088734, 51.523686]}}],\n",
       " 'Playfish': [],\n",
       " 'TweetDeck': [{'_id': ObjectId('5efa09f9c130ec0934edf0d3'),\n",
       "   'name': 'Victoria Tower Gardens South',\n",
       "   'latitude': 51.4969444,\n",
       "   'longitude': -0.125,\n",
       "   'geopoint': {'type': 'Point', 'coordinates': [-0.125, 51.4969444]}}]}"
      ]
     },
     "execution_count": 5,
     "metadata": {},
     "output_type": "execute_result"
    }
   ],
   "source": [
    "def againstmongo(inlondon):\n",
    "    closest= {}    \n",
    "    for i in range(len(inlondon)):\n",
    "        results = list(db.parks.find(geoQueryNear(inlondon.iloc[i].geopoint, radius=500))) \n",
    "        closest[inlondon.name[i]]= results \n",
    "    return closest\n",
    "\n",
    "againstmongo(inlondon)\n",
    "#amiando 1\n",
    "#Playfish 0\n",
    "#TweetDeck 1"
   ]
  },
  {
   "cell_type": "markdown",
   "metadata": {},
   "source": [
    "## Happy Office-Dog"
   ]
  },
  {
   "cell_type": "code",
   "execution_count": 6,
   "metadata": {},
   "outputs": [
    {
     "data": {
      "text/plain": [
       "{'amiando': [{'_id': ObjectId('5efa5db25a0ab7410649d309'),\n",
       "   'name': 'City Dog',\n",
       "   'latitude': 51.5243723,\n",
       "   'longitude': -0.0808405,\n",
       "   'geopoint': {'type': 'Point', 'coordinates': [-0.0808405, 51.5243723]}}],\n",
       " 'Playfish': [],\n",
       " 'TweetDeck': []}"
      ]
     },
     "execution_count": 6,
     "metadata": {},
     "output_type": "execute_result"
    }
   ],
   "source": [
    "def againstmongo(inlondon):\n",
    "    closest= {}    \n",
    "    for i in range(len(inlondon)):\n",
    "        results = list(db.happydog.find(geoQueryNear(inlondon.iloc[i].geopoint, radius=500))) \n",
    "        closest[inlondon.name[i]]= results \n",
    "    return closest\n",
    "\n",
    "againstmongo(inlondon)\n",
    "#amiando 1\n",
    "#Playfish 0\n",
    "#TweetDeck 0"
   ]
  },
  {
   "cell_type": "markdown",
   "metadata": {},
   "source": [
    "# BEING CONFORTABLE\n",
    "\n",
    "## Primary Schools"
   ]
  },
  {
   "cell_type": "code",
   "execution_count": 7,
   "metadata": {},
   "outputs": [
    {
     "data": {
      "text/plain": [
       "{'amiando': [{'_id': ObjectId('5efa0ab0e4fe7e5d9ed52cd2'),\n",
       "   'name': 'Christ Church C of E Primary School',\n",
       "   'latitude': 51.5188862,\n",
       "   'longitude': -0.0717826,\n",
       "   'geopoint': {'type': 'Point', 'coordinates': [-0.0717826, 51.5188862]}},\n",
       "  {'_id': ObjectId('5efa0ab0e4fe7e5d9ed52cdc'),\n",
       "   'name': 'Dallington School',\n",
       "   'latitude': 51.5245955,\n",
       "   'longitude': -0.1004633,\n",
       "   'geopoint': {'type': 'Point', 'coordinates': [-0.1004633, 51.5245955]}},\n",
       "  {'_id': ObjectId('5efa0ab0e4fe7e5d9ed52cd1'),\n",
       "   'name': 'Rotherfield Primary School',\n",
       "   'latitude': 51.5390826,\n",
       "   'longitude': -0.0910265,\n",
       "   'geopoint': {'type': 'Point', 'coordinates': [-0.0910265, 51.5390826]}},\n",
       "  {'_id': ObjectId('5efa0ab0e4fe7e5d9ed52ccf'),\n",
       "   'name': \"St Alban's C of E Primary & Nursery School\",\n",
       "   'latitude': 51.5201319,\n",
       "   'longitude': -0.1112253,\n",
       "   'geopoint': {'type': 'Point', 'coordinates': [-0.1112253, 51.5201319]}}],\n",
       " 'Playfish': [],\n",
       " 'TweetDeck': [{'_id': ObjectId('5efa0ab0e4fe7e5d9ed52cde'),\n",
       "   'name': 'Westminster Cathedral R C Primary School',\n",
       "   'latitude': 51.4886547,\n",
       "   'longitude': -0.1323582,\n",
       "   'geopoint': {'type': 'Point', 'coordinates': [-0.1323582, 51.4886547]}}]}"
      ]
     },
     "execution_count": 7,
     "metadata": {},
     "output_type": "execute_result"
    }
   ],
   "source": [
    "def againstmongo(inlondon):\n",
    "    closest= {}    \n",
    "    for i in range(len(inlondon)):\n",
    "        results = list(db.primaryschools.find(geoQueryNear(inlondon.iloc[i].geopoint, radius=2000))) \n",
    "        closest[inlondon.name[i]]= results \n",
    "    return closest\n",
    "\n",
    "againstmongo(inlondon)\n",
    "#amiando 4\n",
    "#Playfish 0\n",
    "#TweetDeck 1"
   ]
  },
  {
   "cell_type": "markdown",
   "metadata": {},
   "source": [
    "# BEING CONNECTED\n",
    "\n",
    "## Airports"
   ]
  },
  {
   "cell_type": "code",
   "execution_count": 9,
   "metadata": {},
   "outputs": [
    {
     "data": {
      "text/plain": [
       "{'amiando': [{'_id': ObjectId('5efa0a3b471cc3375840ff99'),\n",
       "   'name': 'Airport Force Ltd',\n",
       "   'latitude': 51.5399513,\n",
       "   'longitude': -0.0537234,\n",
       "   'geopoint': {'type': 'Point', 'coordinates': [-0.0537234, 51.5399513]}}],\n",
       " 'Playfish': [],\n",
       " 'TweetDeck': []}"
      ]
     },
     "execution_count": 9,
     "metadata": {},
     "output_type": "execute_result"
    }
   ],
   "source": [
    "\n",
    "def againstmongo(inlondon):\n",
    "    closest= {}    \n",
    "    for i in range(len(inlondon)):\n",
    "        results = list(db.airports.find(geoQueryNear(inlondon.iloc[i].geopoint, radius=6000))) \n",
    "        closest[inlondon.name[i]]= results \n",
    "    return closest\n",
    "\n",
    "againstmongo(inlondon)\n",
    "#amiando 1\n",
    "#Playfish 0\n",
    "#TweetDeck 0"
   ]
  },
  {
   "cell_type": "markdown",
   "metadata": {},
   "source": [
    "## Buses"
   ]
  },
  {
   "cell_type": "code",
   "execution_count": 10,
   "metadata": {},
   "outputs": [
    {
     "data": {
      "text/plain": [
       "{'amiando': [{'_id': ObjectId('5efa0a7b374593c6406084ef'),\n",
       "   'name': 'Shoreditch High Street Station (Stop N)',\n",
       "   'latitude': 51.524963,\n",
       "   'longitude': -0.077243,\n",
       "   'geopoint': {'type': 'Point', 'coordinates': [-0.077243, 51.524963]}}],\n",
       " 'Playfish': [],\n",
       " 'TweetDeck': [{'_id': ObjectId('5efa0a7b374593c6406084f0'),\n",
       "   'name': 'Waterloo Station',\n",
       "   'latitude': 51.5030541,\n",
       "   'longitude': -0.115668,\n",
       "   'geopoint': {'type': 'Point', 'coordinates': [-0.115668, 51.5030541]}},\n",
       "  {'_id': ObjectId('5efa0a7b374593c6406084ec'),\n",
       "   'name': \"The St James's Partnership\",\n",
       "   'latitude': 51.50731,\n",
       "   'longitude': -0.1341694,\n",
       "   'geopoint': {'type': 'Point', 'coordinates': [-0.1341694, 51.50731]}}]}"
      ]
     },
     "execution_count": 10,
     "metadata": {},
     "output_type": "execute_result"
    }
   ],
   "source": [
    "def againstmongo(inlondon):\n",
    "    closest= {}    \n",
    "    for i in range(len(inlondon)):\n",
    "        results = list(db.buses.find(geoQueryNear(inlondon.iloc[i].geopoint, radius=1000))) \n",
    "        closest[inlondon.name[i]]= results \n",
    "    return closest\n",
    "\n",
    "againstmongo(inlondon)\n",
    "#amiando 1\n",
    "#Playfish 0\n",
    "#TweetDeck 2"
   ]
  },
  {
   "cell_type": "markdown",
   "metadata": {},
   "source": [
    "## Train Stations"
   ]
  },
  {
   "cell_type": "code",
   "execution_count": 11,
   "metadata": {},
   "outputs": [
    {
     "data": {
      "text/plain": [
       "{'amiando': [{'_id': ObjectId('5efa0a5affef02eb8a2fb986'),\n",
       "   'name': 'Shoreditch High Street',\n",
       "   'latitude': 51.5232698,\n",
       "   'longitude': -0.0753729,\n",
       "   'geopoint': {'type': 'Point', 'coordinates': [-0.0753729, 51.5232698]}},\n",
       "  {'_id': ObjectId('5efa0a5affef02eb8a2fb995'),\n",
       "   'name': 'Liverpool Street Station',\n",
       "   'latitude': 51.5187516,\n",
       "   'longitude': -0.0814374,\n",
       "   'geopoint': {'type': 'Point', 'coordinates': [-0.0814374, 51.5187516]}}],\n",
       " 'Playfish': [],\n",
       " 'TweetDeck': []}"
      ]
     },
     "execution_count": 11,
     "metadata": {},
     "output_type": "execute_result"
    }
   ],
   "source": [
    "def againstmongo(inlondon):\n",
    "    closest= {}    \n",
    "    for i in range(len(inlondon)):\n",
    "        results = list(db.trains.find(geoQueryNear(inlondon.iloc[i].geopoint, radius=700))) \n",
    "        closest[inlondon.name[i]]= results \n",
    "    return closest\n",
    "\n",
    "againstmongo(inlondon)\n",
    "#amiando 2\n",
    "#Playfish 0\n",
    "#TweetDeck 0"
   ]
  },
  {
   "cell_type": "markdown",
   "metadata": {},
   "source": [
    "# FOR FUN\n",
    "\n",
    "## Starbucks"
   ]
  },
  {
   "cell_type": "code",
   "execution_count": 12,
   "metadata": {},
   "outputs": [
    {
     "data": {
      "text/plain": [
       "{'amiando': [],\n",
       " 'Playfish': [],\n",
       " 'TweetDeck': [{'_id': ObjectId('5efa0c3c5484c8b438666e0e'),\n",
       "   'name': 'Starbucks Coffee',\n",
       "   'latitude': 51.4990833,\n",
       "   'longitude': -0.1336109,\n",
       "   'geopoint': {'type': 'Point', 'coordinates': [-0.1336109, 51.4990833]}},\n",
       "  {'_id': ObjectId('5efa0c3c5484c8b438666e10'),\n",
       "   'name': 'Starbucks Coffee',\n",
       "   'latitude': 51.501962,\n",
       "   'longitude': -0.117661,\n",
       "   'geopoint': {'type': 'Point', 'coordinates': [-0.117661, 51.501962]}},\n",
       "  {'_id': ObjectId('5efa0c3c5484c8b438666e0c'),\n",
       "   'name': 'Starbucks',\n",
       "   'latitude': 51.5074566,\n",
       "   'longitude': -0.1228585,\n",
       "   'geopoint': {'type': 'Point', 'coordinates': [-0.1228585, 51.5074566]}}]}"
      ]
     },
     "execution_count": 12,
     "metadata": {},
     "output_type": "execute_result"
    }
   ],
   "source": [
    "#I check for Starbucks, there is one close to the offices.\n",
    "def againstmongo(inlondon):\n",
    "    closest= {}    \n",
    "    for i in range(len(inlondon)):\n",
    "        #print(inlondon.name[i])\n",
    "        #print(inlondon.iloc[i].geopoint)\n",
    "        results = list(db.starbucks.find(geoQueryNear(inlondon.iloc[i].geopoint, radius=1000))) \n",
    "        #print(results)\n",
    "        closest[inlondon.name[i]]= results \n",
    "    return closest\n",
    "\n",
    "againstmongo(inlondon)\n",
    "#amiando 0\n",
    "#Playfish 0\n",
    "#TweetDeck 3"
   ]
  },
  {
   "cell_type": "markdown",
   "metadata": {},
   "source": [
    "## Pubs "
   ]
  },
  {
   "cell_type": "code",
   "execution_count": 13,
   "metadata": {},
   "outputs": [
    {
     "data": {
      "text/plain": [
       "{'amiando': [{'_id': ObjectId('5efa249ffde4801be6de455d'),\n",
       "   'name': 'The Ten Bells Spitalfields',\n",
       "   'latitude': 51.5193581,\n",
       "   'longitude': -0.0743275,\n",
       "   'geopoint': {'type': 'Point', 'coordinates': [-0.0743275, 51.5193581]}}],\n",
       " 'Playfish': [],\n",
       " 'TweetDeck': [{'_id': ObjectId('5efa249ffde4801be6de4567'),\n",
       "   'name': 'The Marquis of Granby',\n",
       "   'latitude': 51.4952101,\n",
       "   'longitude': -0.1271031,\n",
       "   'geopoint': {'type': 'Point', 'coordinates': [-0.1271031, 51.4952101]}}]}"
      ]
     },
     "execution_count": 13,
     "metadata": {},
     "output_type": "execute_result"
    }
   ],
   "source": [
    "def againstmongo(inlondon):\n",
    "    closest= {}    \n",
    "    for i in range(len(inlondon)):\n",
    "        results = list(db.pubs.find(geoQueryNear(inlondon.iloc[i].geopoint, radius=1000))) \n",
    "        closest[inlondon.name[i]]= results \n",
    "    return closest\n",
    "\n",
    "againstmongo(inlondon)\n",
    "#amiando 1\n",
    "#Playfish 0\n",
    "#TweetDeck 1"
   ]
  },
  {
   "cell_type": "markdown",
   "metadata": {},
   "source": [
    "# CULTURE, KNOWLEDGE, TAKING & SHARING\n",
    "## Universities"
   ]
  },
  {
   "cell_type": "code",
   "execution_count": 14,
   "metadata": {
    "scrolled": true
   },
   "outputs": [
    {
     "data": {
      "text/plain": [
       "{'amiando': [{'_id': ObjectId('5efa0b6d1237e192d22c1b58'),\n",
       "   'name': 'London School of Business and Finance- Professional Qualifications',\n",
       "   'latitude': 51.5214102,\n",
       "   'longitude': -0.0896779,\n",
       "   'geopoint': {'type': 'Point', 'coordinates': [-0.0896779, 51.5214102]}},\n",
       "  {'_id': ObjectId('5efa0b6d1237e192d22c1b65'),\n",
       "   'name': 'New City College, Hackney',\n",
       "   'latitude': 51.5306517,\n",
       "   'longitude': -0.078847,\n",
       "   'geopoint': {'type': 'Point', 'coordinates': [-0.078847, 51.5306517]}}],\n",
       " 'Playfish': [],\n",
       " 'TweetDeck': []}"
      ]
     },
     "execution_count": 14,
     "metadata": {},
     "output_type": "execute_result"
    }
   ],
   "source": [
    "def againstmongo(inlondon):\n",
    "    closest= {}    \n",
    "    for i in range(len(inlondon)):\n",
    "        results = list(db.universities.find(geoQueryNear(inlondon.iloc[i].geopoint, radius=1000))) \n",
    "        closest[inlondon.name[i]]= results \n",
    "    return closest\n",
    "\n",
    "againstmongo(inlondon)\n",
    "#amiando 2\n",
    "#Playfish 0\n",
    "#TweetDeck 0"
   ]
  },
  {
   "cell_type": "markdown",
   "metadata": {},
   "source": [
    "## Other Companies"
   ]
  },
  {
   "cell_type": "code",
   "execution_count": 15,
   "metadata": {},
   "outputs": [
    {
     "data": {
      "text/plain": [
       "{'amiando': [{'_id': ObjectId('5efa0d31bf6699e2e1d7e0dc'),\n",
       "   'name': '9 Designs',\n",
       "   'latitude': 51.5181768,\n",
       "   'longitude': -0.0905412,\n",
       "   'geopoint': {'type': 'Point', 'coordinates': [-0.0905412, 51.5181768]}}],\n",
       " 'Playfish': [],\n",
       " 'TweetDeck': []}"
      ]
     },
     "execution_count": 15,
     "metadata": {},
     "output_type": "execute_result"
    }
   ],
   "source": [
    "def againstmongo(inlondon):\n",
    "    closest= {}    \n",
    "    for i in range(len(inlondon)):\n",
    "        results = list(db.othercomp.find(geoQueryNear(inlondon.iloc[i].geopoint, radius=1000))) \n",
    "        closest[inlondon.name[i]]= results \n",
    "    return closest\n",
    "\n",
    "againstmongo(inlondon)\n",
    "#amiando 1\n",
    "#Playfish 0\n",
    "#TweetDeck 0"
   ]
  },
  {
   "cell_type": "markdown",
   "metadata": {},
   "source": [
    "## Auditoriums"
   ]
  },
  {
   "cell_type": "code",
   "execution_count": 16,
   "metadata": {},
   "outputs": [
    {
     "data": {
      "text/plain": [
       "{'amiando': [{'_id': ObjectId('5efa0be347579b3661cbc27b'),\n",
       "   'name': 'Defected Records',\n",
       "   'latitude': 51.523004,\n",
       "   'longitude': -0.0808106,\n",
       "   'geopoint': {'type': 'Point', 'coordinates': [-0.0808106, 51.523004]}},\n",
       "  {'_id': ObjectId('5efa0be347579b3661cbc285'),\n",
       "   'name': 'Guildhall School of Music & Drama',\n",
       "   'latitude': 51.5197123,\n",
       "   'longitude': -0.0918272,\n",
       "   'geopoint': {'type': 'Point', 'coordinates': [-0.0918272, 51.5197123]}}],\n",
       " 'Playfish': [],\n",
       " 'TweetDeck': [{'_id': ObjectId('5efa0be347579b3661cbc27f'),\n",
       "   'name': 'Millbank Media Centre',\n",
       "   'latitude': 51.4922327,\n",
       "   'longitude': -0.1257952,\n",
       "   'geopoint': {'type': 'Point', 'coordinates': [-0.1257952, 51.4922327]}},\n",
       "  {'_id': ObjectId('5efa0be347579b3661cbc283'),\n",
       "   'name': 'Southbank Centre',\n",
       "   'latitude': 51.505662,\n",
       "   'longitude': -0.1169456,\n",
       "   'geopoint': {'type': 'Point', 'coordinates': [-0.1169456, 51.505662]}},\n",
       "  {'_id': ObjectId('5efa0be347579b3661cbc284'),\n",
       "   'name': 'Royal Festival Hall',\n",
       "   'latitude': 51.5058062,\n",
       "   'longitude': -0.1166288,\n",
       "   'geopoint': {'type': 'Point', 'coordinates': [-0.1166288, 51.5058062]}}]}"
      ]
     },
     "execution_count": 16,
     "metadata": {},
     "output_type": "execute_result"
    }
   ],
   "source": [
    "def againstmongo(inlondon):\n",
    "    closest= {}    \n",
    "    for i in range(len(inlondon)):\n",
    "        results = list(db.auditoriums.find(geoQueryNear(inlondon.iloc[i].geopoint, radius=1000))) \n",
    "        closest[inlondon.name[i]]= results \n",
    "    return closest\n",
    "\n",
    "againstmongo(inlondon)\n",
    "\n",
    "#amiando 2\n",
    "#Playfish 0\n",
    "#TweetDeck 3"
   ]
  },
  {
   "cell_type": "markdown",
   "metadata": {},
   "source": [
    "# amiando 15\n",
    "## TweetDeck 11\n",
    "### Playfish 0"
   ]
  },
  {
   "cell_type": "code",
   "execution_count": null,
   "metadata": {},
   "outputs": [],
   "source": []
  }
 ],
 "metadata": {
  "kernelspec": {
   "display_name": "Python 3",
   "language": "python",
   "name": "python3"
  },
  "language_info": {
   "codemirror_mode": {
    "name": "ipython",
    "version": 3
   },
   "file_extension": ".py",
   "mimetype": "text/x-python",
   "name": "python",
   "nbconvert_exporter": "python",
   "pygments_lexer": "ipython3",
   "version": "3.8.2"
  }
 },
 "nbformat": 4,
 "nbformat_minor": 4
}
