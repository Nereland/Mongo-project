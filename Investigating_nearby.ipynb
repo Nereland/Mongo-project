{
 "cells": [
  {
   "cell_type": "markdown",
   "metadata": {},
   "source": [
    "## QUERIES TO GOOGLE APP"
   ]
  },
  {
   "cell_type": "code",
   "execution_count": 1,
   "metadata": {},
   "outputs": [],
   "source": [
    "from SRC.func_for_api import *\n",
    "import os\n",
    "import json\n",
    "import dotenv\n",
    "from dotenv import load_dotenv\n",
    "import requests\n",
    "load_dotenv()\n",
    "import json\n",
    "import requests\n",
    "import pandas as pd\n",
    "import numpy as np\n"
   ]
  },
  {
   "cell_type": "markdown",
   "metadata": {},
   "source": [
    "\n",
    "\n",
    "Now I will check the preferences of my gaming company, which were:\n",
    "\n",
    "- Designers like to go to design talks and share knowledge. There must be some nearby companies that also do design.\n",
    "- 30% of the company have at least 1 child.\n",
    "- Developers like to be near successful tech startups that have raised at least 1 Million dollars.\n",
    "- Executives like Starbucks A LOT. Ensure there's a starbucks not to far.\n",
    "- Account managers need to travel a lot\n",
    "- All people in the company have between 25 and 40 years, give them some place to go to party.\n",
    "- The CEO is Vegan\n",
    "- If you want to make the maintenance guy happy, a basketball stadium must be around 10 Km.\n",
    "- The office dog \"Pepe\" needs a hairdresser every month. Ensure there's one not too far away.\n"
   ]
  },
  {
   "cell_type": "markdown",
   "metadata": {},
   "source": [
    "## My starting point :\n",
    " \n",
    "### LONDON DOWN TOWN COORDINATES: \"51.51279\", \"-0.09184\"\n"
   ]
  },
  {
   "cell_type": "markdown",
   "metadata": {},
   "source": [
    "I will start by meeting the CEO needs, we must keep him happy, let's find vegan restaurants for one of my three selected areas, if the first one, which is the youngest company, meets all needs, I will stick to that one, if it does not, I will try with the next one ordered by founded year:\n",
    "- 2008 : \"51.5001524\", \"-0.1262362\"\n",
    "- 2007: \"51.4991094\", \"-0.1984802\"\n",
    "- 2006: \"51.5248598\",\"-0.0836311\""
   ]
  },
  {
   "cell_type": "markdown",
   "metadata": {},
   "source": [
    "### VEGGI  RESTAURANTS"
   ]
  },
  {
   "cell_type": "code",
   "execution_count": 2,
   "metadata": {},
   "outputs": [],
   "source": [
    "veggi = getfromgooglecloud(getQueryParams(\"51.51279\", \"-0.09184\",5000,\"restaurant\", \"vegan\"))\n",
    "veggi = toGetGeometry(veggi)\n",
    "vegans=pd.DataFrame(veggi)\n",
    "vegans[\"geopoint\"] = vegans.apply(transformToGeoPoint, axis=1)\n",
    "vegans\n",
    "vegans.to_json(\"outputs/vegans.json\",orient=\"records\")\n"
   ]
  },
  {
   "cell_type": "markdown",
   "metadata": {},
   "source": [
    "### PARKS"
   ]
  },
  {
   "cell_type": "code",
   "execution_count": 3,
   "metadata": {},
   "outputs": [],
   "source": [
    "park = getfromgooglecloud(getQueryParams(\"51.51279\", \"-0.09184\",5000,\"park\", \"\"))\n",
    "park = toGetGeometry(park)\n",
    "parks=pd.DataFrame(park)\n",
    "parks\n",
    "parks[\"geopoint\"] = parks.apply(transformToGeoPoint, axis=1)\n",
    "parks\n",
    "parks.to_json(\"outputs/parks.json\",orient=\"records\")\n"
   ]
  },
  {
   "cell_type": "markdown",
   "metadata": {},
   "source": [
    "### BEING CONNECTED"
   ]
  },
  {
   "cell_type": "code",
   "execution_count": 4,
   "metadata": {},
   "outputs": [],
   "source": [
    "airport = getfromgooglecloud(getQueryParams(\"51.51279\", \"-0.09184\", 20000, \"airport\", \"airport\"))\n",
    "airport = toGetGeometry(airport)#veggi=pd.DataFrame(veggi)\n",
    "airports=pd.DataFrame(airport)\n",
    "airports\n",
    "airports[\"geopoint\"] = airports.apply(transformToGeoPoint, axis=1)\n",
    "airports\n",
    "\n",
    "airports.to_json(\"outputs/airports.json\",orient=\"records\")\n"
   ]
  },
  {
   "cell_type": "code",
   "execution_count": 5,
   "metadata": {},
   "outputs": [],
   "source": [
    "train = getfromgooglecloud(getQueryParams(\"51.51279\", \"-0.09184\", 5000, \"train_station\", \"\"))\n",
    "train = toGetGeometry(train)#veggi=pd.DataFrame(veggi)\n",
    "trains=pd.DataFrame(train)\n",
    "trains\n",
    "trains[\"geopoint\"] = trains.apply(transformToGeoPoint, axis=1)\n",
    "trains\n",
    "trains.to_json(\"outputs/trains.json\",orient=\"records\")\n"
   ]
  },
  {
   "cell_type": "code",
   "execution_count": 6,
   "metadata": {},
   "outputs": [],
   "source": [
    "bus = getfromgooglecloud(getQueryParams(\"51.51279\", \"-0.09184\", 5000, \"bus_station\", \"\"))\n",
    "bus = toGetGeometry(bus)\n",
    "buses=pd.DataFrame(bus)\n",
    "buses\n",
    "buses[\"geopoint\"] = buses.apply(transformToGeoPoint, axis=1)\n",
    "buses\n",
    "buses.to_json(\"outputs/buses.json\",orient=\"records\")\n"
   ]
  },
  {
   "cell_type": "markdown",
   "metadata": {},
   "source": [
    "### HAPPY PUPPY"
   ]
  },
  {
   "cell_type": "code",
   "execution_count": 7,
   "metadata": {},
   "outputs": [],
   "source": [
    "cleandog = getfromgooglecloud(getQueryParams(\"51.51279\", \"-0.09184\", 5000, \"\", \"dog\"))\n",
    "\n",
    "cleandog = toGetGeometry(cleandog)\n",
    "cleandogs=pd.DataFrame(cleandog)\n",
    "cleandogs\n",
    "cleandogs[\"geopoint\"] = cleandogs.apply(transformToGeoPoint, axis=1)\n",
    "cleandogs.to_json(\"outputs/cleandog.json\",orient=\"records\")\n"
   ]
  },
  {
   "cell_type": "markdown",
   "metadata": {},
   "source": [
    "### WELL-BEING FOR MUMMYS AND DADDYS"
   ]
  },
  {
   "cell_type": "code",
   "execution_count": 8,
   "metadata": {},
   "outputs": [],
   "source": [
    "primarySchool=getfromgooglecloud(getQueryParams(\"51.51279\", \"-0.09184\", 5000, \"primary_school\", \"\"))\n",
    "primarySchool = toGetGeometry(primarySchool)\n",
    "primarySchools=pd.DataFrame(primarySchool)\n",
    "primarySchools\n",
    "primarySchools[\"geopoint\"] = primarySchools.apply(transformToGeoPoint, axis=1)\n",
    "primarySchools\n",
    "primarySchools.to_json(\"outputs/pschools.json\",orient=\"records\")\n",
    "\n"
   ]
  },
  {
   "cell_type": "markdown",
   "metadata": {},
   "source": [
    "## KNOWLEDGE  AND SHARING"
   ]
  },
  {
   "cell_type": "code",
   "execution_count": 9,
   "metadata": {},
   "outputs": [],
   "source": [
    "university = getfromgooglecloud(getQueryParams(\"51.51279\", \"-0.09184\", 5000, \"university\", \"\"))\n",
    "university = toGetGeometry(university)\n",
    "universities=pd.DataFrame(university)\n",
    "\n",
    "universities[\"geopoint\"] = universities.apply(transformToGeoPoint, axis=1)\n",
    "universities\n",
    "universities.to_json(\"outputs/universities.json\",orient=\"records\")\n",
    "\n",
    "\n"
   ]
  },
  {
   "cell_type": "code",
   "execution_count": 10,
   "metadata": {},
   "outputs": [],
   "source": [
    "auditorium = getfromgooglecloud(getQueryParams(\"51.51279\", \"-0.09184\", 5000, \"\", \"auditorium\"))\n",
    "auditorium = toGetGeometry(auditorium)\n",
    "auditoriums=pd.DataFrame(auditorium)\n",
    "auditoriums[\"geopoint\"] = auditoriums.apply(transformToGeoPoint, axis=1)\n",
    "auditoriums\n",
    "auditoriums.to_json(\"outputs/auditoriums.json\",orient=\"records\")\n",
    "\n"
   ]
  },
  {
   "cell_type": "code",
   "execution_count": 11,
   "metadata": {},
   "outputs": [],
   "source": [
    "othercomp = getfromgooglecloud(getQueryParams(\"51.51279\", \"-0.09184\", 5000, \"company\", \"design\"))\n",
    "othercomp = toGetGeometry(othercomp)\n",
    "othercomp=pd.DataFrame(othercomp)\n",
    "othercomp[\"geopoint\"] = othercomp.apply(transformToGeoPoint, axis=1)\n",
    "othercomp\n",
    "othercomp.to_json(\"outputs/othercomp.json\",orient=\"records\")\n"
   ]
  },
  {
   "cell_type": "markdown",
   "metadata": {},
   "source": [
    "### FUN AND RELAX"
   ]
  },
  {
   "cell_type": "code",
   "execution_count": 12,
   "metadata": {},
   "outputs": [],
   "source": [
    "starbucks = getfromgooglecloud(getQueryParams(\"51.51279\", \"-0.09184\", 5000, \"\", \"starbucks\"))\n",
    "starbucks = toGetGeometry(starbucks)\n",
    "starbucks=pd.DataFrame(starbucks)\n",
    "starbucks[\"geopoint\"] = starbucks.apply(transformToGeoPoint, axis=1)\n",
    "starbucks\n",
    "starbucks.to_json(\"outputs/starbucks.json\",orient=\"records\")\n",
    "\n"
   ]
  },
  {
   "cell_type": "markdown",
   "metadata": {},
   "source": [
    "And also with places to have fun around! \n",
    "\n"
   ]
  },
  {
   "cell_type": "code",
   "execution_count": 13,
   "metadata": {},
   "outputs": [],
   "source": [
    "pubs = getfromgooglecloud(getQueryParams(\"51.51279\", \"-0.09184\", 5000, \"bar\", \"pub\"))\n",
    "pubs = toGetGeometry(pubs)\n",
    "pubs=pd.DataFrame(pubs)\n",
    "pubs[\"geopoint\"] = pubs.apply(transformToGeoPoint, axis=1)\n",
    "pubs\n",
    "pubs.to_json(\"outputs/pubs.json\",orient=\"records\")\n",
    "\n",
    "\n"
   ]
  }
 ],
 "metadata": {
  "kernelspec": {
   "display_name": "Python 3",
   "language": "python",
   "name": "python3"
  },
  "language_info": {
   "codemirror_mode": {
    "name": "ipython",
    "version": 3
   },
   "file_extension": ".py",
   "mimetype": "text/x-python",
   "name": "python",
   "nbconvert_exporter": "python",
   "pygments_lexer": "ipython3",
   "version": "3.8.2"
  }
 },
 "nbformat": 4,
 "nbformat_minor": 4
}
