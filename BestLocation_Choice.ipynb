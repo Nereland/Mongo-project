{
 "cells": [
  {
   "cell_type": "code",
   "execution_count": 1,
   "metadata": {},
   "outputs": [],
   "source": [
    "from pymongo import MongoClient\n",
    "dbName = \"companies\"\n",
    "mongodbURL = f\"mongodb://localhost/{dbName}\"\n",
    "client = MongoClient(mongodbURL, connectTimeoutMS=2000, serverSelectionTimeoutMS=2000)\n",
    "db = client.get_database()\n",
    "client = MongoClient()"
   ]
  },
  {
   "cell_type": "code",
   "execution_count": 2,
   "metadata": {},
   "outputs": [],
   "source": [
    "import requests\n",
    "def geocode(address):\n",
    "    res = requests.get(f\"https://geocode.xyz/{address}\", params={\"json\":1})\n",
    "    data = res.json()\n",
    "    return {\n",
    "\"type\":\"Point\",\n",
    "\"coordinates\":[float(data[\"longt\" ]),float(data[\"latt\"])]\n",
    "}\n"
   ]
  },
  {
   "cell_type": "code",
   "execution_count": 3,
   "metadata": {},
   "outputs": [
    {
     "data": {
      "text/plain": [
       "{'type': 'Point', 'coordinates': [-3.7011, 40.39652]}"
      ]
     },
     "execution_count": 3,
     "metadata": {},
     "output_type": "execute_result"
    }
   ],
   "source": [
    "#EJEMPLO PARA QUITAR LUEGO  https://geojson.io/#map=16/40.3959/-3.70 39\n",
    "# https://geojson.org/\n",
    "ironhack = \"Paseo de la chopera 14 Madrid\" \n",
    "geocode(ironhack)\n",
    "\n"
   ]
  },
  {
   "cell_type": "code",
   "execution_count": 4,
   "metadata": {},
   "outputs": [],
   "source": [
    "# https://docs.mongodb.com/manual/referenc e/operator/query/near/#op._S_near"
   ]
  },
  {
   "cell_type": "code",
   "execution_count": 5,
   "metadata": {},
   "outputs": [],
   "source": [
    "from pymongo import MongoClient\n",
    "client = MongoClient(\"mongodb://localhost/companies\")\n",
    "db = client.get_database()"
   ]
  },
  {
   "cell_type": "markdown",
   "metadata": {},
   "source": [
    "## First steps \n",
    "\n",
    "I want to find the best emplacement for gaming company, for this, in first place I investigated other successful companies that work in related areas. \n",
    "\n",
    "Therefore I decide to perform quite a large query with all the information I want, and excluding those data that will not help me to find a nice place for my company.\n",
    "\n",
    "In the following query I chose:\n",
    "- Those companies that were born after 2005\n",
    "- That work in USD\n",
    "- Whose acquisition price is greater that 1000000\n",
    "- And that work on software, design or web (three features that I consider importat for my gaming company)"
   ]
  },
  {
   "cell_type": "code",
   "execution_count": 6,
   "metadata": {},
   "outputs": [
    {
     "data": {
      "text/plain": [
       "42"
      ]
     },
     "execution_count": 6,
     "metadata": {},
     "output_type": "execute_result"
    }
   ],
   "source": [
    "query = {\"$and\": [{\"founded_year\":{\"$gte\":2005}},\n",
    "                  {\"acquisition.price_currency_code\":{\"$eq\":\"USD\"}},\n",
    "                  {\"acquisition.price_amount\":{\"$gt\":10000000}}, \n",
    "                  {\"$or\":[{\"category_code\":{\"$eq\":\"software\"}},\n",
    "                          {\"category_code\":{\"$eq\":\"design\"}}, \n",
    "                          {\"category_code\":{\"$eq\":\"games_video\"}},\n",
    "                          {\"category_code\":{\"$eq\":\"web\"}}]}]}\n",
    "companies = list(db[\"companies\"].find(query,{\"offices\":1, \"name\":1, \"founded_year\": 1, \"category_code\":1, \"acquisition.price_amount\":1}))\n",
    "len(companies)\n",
    "#,\"_id\":0,  \"offices.latitude\":1, \"offices.longitude\":1,\"offices.city\":1 "
   ]
  },
  {
   "cell_type": "markdown",
   "metadata": {},
   "source": [
    "From this query I obtain 58 companies, I am going to find their offices, study their emplacement and try to figure out  a nice place for my office.\n"
   ]
  },
  {
   "cell_type": "code",
   "execution_count": 7,
   "metadata": {},
   "outputs": [
    {
     "data": {
      "text/plain": [
       "(42, 6)"
      ]
     },
     "execution_count": 7,
     "metadata": {},
     "output_type": "execute_result"
    }
   ],
   "source": [
    "import pandas as pd\n",
    "df = pd.DataFrame(list(companies)) \n",
    "\n",
    "\n",
    "df.head()\n",
    "df.shape#(42, 5)"
   ]
  },
  {
   "cell_type": "code",
   "execution_count": 8,
   "metadata": {},
   "outputs": [
    {
     "data": {
      "text/plain": [
       "(58, 9)"
      ]
     },
     "execution_count": 8,
     "metadata": {},
     "output_type": "execute_result"
    }
   ],
   "source": [
    "#I explode the offices column in order to transform each element of the offices category, in a row. With this method \n",
    "#I obtain information about the latitude, longitude, and also about the address of the offices of these companies.\n",
    "offices = df.explode(\"offices\").apply(lambda e: e.offices,axis=1,result_type=\"expand\")\n",
    "\n",
    "\n",
    "offices.head()\n",
    "offices.shape#(58,9)"
   ]
  },
  {
   "cell_type": "code",
   "execution_count": 9,
   "metadata": {},
   "outputs": [
    {
     "data": {
      "text/html": [
       "<div>\n",
       "<style scoped>\n",
       "    .dataframe tbody tr th:only-of-type {\n",
       "        vertical-align: middle;\n",
       "    }\n",
       "\n",
       "    .dataframe tbody tr th {\n",
       "        vertical-align: top;\n",
       "    }\n",
       "\n",
       "    .dataframe thead th {\n",
       "        text-align: right;\n",
       "    }\n",
       "</style>\n",
       "<table border=\"1\" class=\"dataframe\">\n",
       "  <thead>\n",
       "    <tr style=\"text-align: right;\">\n",
       "      <th></th>\n",
       "      <th>name</th>\n",
       "      <th>_id</th>\n",
       "      <th>category_code</th>\n",
       "      <th>acquisition</th>\n",
       "      <th>founded_year</th>\n",
       "      <th>description</th>\n",
       "      <th>address1</th>\n",
       "      <th>address2</th>\n",
       "      <th>zip_code</th>\n",
       "      <th>city</th>\n",
       "      <th>state_code</th>\n",
       "      <th>country_code</th>\n",
       "      <th>latitude</th>\n",
       "      <th>longitude</th>\n",
       "    </tr>\n",
       "  </thead>\n",
       "  <tbody>\n",
       "    <tr>\n",
       "      <th>0</th>\n",
       "      <td>Wetpaint</td>\n",
       "      <td>52cdef7c4bab8bd675297d8a</td>\n",
       "      <td>web</td>\n",
       "      <td>{'price_amount': 30000000}</td>\n",
       "      <td>2005</td>\n",
       "      <td></td>\n",
       "      <td>710 - 2nd Avenue</td>\n",
       "      <td>Suite 1100</td>\n",
       "      <td>98104</td>\n",
       "      <td>Seattle</td>\n",
       "      <td>WA</td>\n",
       "      <td>USA</td>\n",
       "      <td>47.603122</td>\n",
       "      <td>-122.333253</td>\n",
       "    </tr>\n",
       "    <tr>\n",
       "      <th>0</th>\n",
       "      <td>Wetpaint</td>\n",
       "      <td>52cdef7c4bab8bd675297d8a</td>\n",
       "      <td>web</td>\n",
       "      <td>{'price_amount': 30000000}</td>\n",
       "      <td>2005</td>\n",
       "      <td></td>\n",
       "      <td>270 Lafayette Street</td>\n",
       "      <td>Suite 505</td>\n",
       "      <td>10012</td>\n",
       "      <td>New York</td>\n",
       "      <td>NY</td>\n",
       "      <td>USA</td>\n",
       "      <td>40.723731</td>\n",
       "      <td>-73.996431</td>\n",
       "    </tr>\n",
       "    <tr>\n",
       "      <th>1</th>\n",
       "      <td>YouTube</td>\n",
       "      <td>52cdef7c4bab8bd675297dbd</td>\n",
       "      <td>games_video</td>\n",
       "      <td>{'price_amount': 1650000000}</td>\n",
       "      <td>2005</td>\n",
       "      <td>Corporate Headquarters</td>\n",
       "      <td>901 Cherry Ave</td>\n",
       "      <td></td>\n",
       "      <td>94066</td>\n",
       "      <td>San Bruno</td>\n",
       "      <td>CA</td>\n",
       "      <td>USA</td>\n",
       "      <td>37.627971</td>\n",
       "      <td>-122.426804</td>\n",
       "    </tr>\n",
       "    <tr>\n",
       "      <th>2</th>\n",
       "      <td>Revision3</td>\n",
       "      <td>52cdef7c4bab8bd675297dcb</td>\n",
       "      <td>games_video</td>\n",
       "      <td>{'price_amount': 30000000}</td>\n",
       "      <td>2005</td>\n",
       "      <td>HQ</td>\n",
       "      <td>2415 3rd St</td>\n",
       "      <td></td>\n",
       "      <td>94107</td>\n",
       "      <td>San Francisco</td>\n",
       "      <td>CA</td>\n",
       "      <td>USA</td>\n",
       "      <td>37.757758</td>\n",
       "      <td>-122.388243</td>\n",
       "    </tr>\n",
       "    <tr>\n",
       "      <th>3</th>\n",
       "      <td>Meebo</td>\n",
       "      <td>52cdef7c4bab8bd675297e09</td>\n",
       "      <td>web</td>\n",
       "      <td>{'price_amount': 100000000}</td>\n",
       "      <td>2005</td>\n",
       "      <td>Headquarters</td>\n",
       "      <td>215 Castro Street</td>\n",
       "      <td>3rd Floor</td>\n",
       "      <td>94041</td>\n",
       "      <td>Mountain View</td>\n",
       "      <td>CA</td>\n",
       "      <td>USA</td>\n",
       "      <td>37.393679</td>\n",
       "      <td>-122.079017</td>\n",
       "    </tr>\n",
       "  </tbody>\n",
       "</table>\n",
       "</div>"
      ],
      "text/plain": [
       "        name                       _id category_code  \\\n",
       "0   Wetpaint  52cdef7c4bab8bd675297d8a           web   \n",
       "0   Wetpaint  52cdef7c4bab8bd675297d8a           web   \n",
       "1    YouTube  52cdef7c4bab8bd675297dbd   games_video   \n",
       "2  Revision3  52cdef7c4bab8bd675297dcb   games_video   \n",
       "3      Meebo  52cdef7c4bab8bd675297e09           web   \n",
       "\n",
       "                    acquisition  founded_year             description  \\\n",
       "0    {'price_amount': 30000000}          2005                           \n",
       "0    {'price_amount': 30000000}          2005                           \n",
       "1  {'price_amount': 1650000000}          2005  Corporate Headquarters   \n",
       "2    {'price_amount': 30000000}          2005                      HQ   \n",
       "3   {'price_amount': 100000000}          2005            Headquarters   \n",
       "\n",
       "               address1    address2 zip_code           city state_code  \\\n",
       "0      710 - 2nd Avenue  Suite 1100    98104        Seattle         WA   \n",
       "0  270 Lafayette Street   Suite 505    10012       New York         NY   \n",
       "1        901 Cherry Ave                94066      San Bruno         CA   \n",
       "2           2415 3rd St                94107  San Francisco         CA   \n",
       "3     215 Castro Street   3rd Floor    94041  Mountain View         CA   \n",
       "\n",
       "  country_code   latitude   longitude  \n",
       "0          USA  47.603122 -122.333253  \n",
       "0          USA  40.723731  -73.996431  \n",
       "1          USA  37.627971 -122.426804  \n",
       "2          USA  37.757758 -122.388243  \n",
       "3          USA  37.393679 -122.079017  "
      ]
     },
     "execution_count": 9,
     "metadata": {},
     "output_type": "execute_result"
    }
   ],
   "source": [
    "#And now I concat my former dataframe with the df obtained with all the information from the different offices\n",
    "clean_offices = pd.concat([df[[\"name\",\"_id\", \"category_code\",\"acquisition\", \"founded_year\"]], offices], axis=1)\n",
    "\n",
    "clean_offices.head()\n"
   ]
  },
  {
   "cell_type": "markdown",
   "metadata": {},
   "source": [
    "#### Geopoints values latitude and longitude"
   ]
  },
  {
   "cell_type": "code",
   "execution_count": 10,
   "metadata": {},
   "outputs": [
    {
     "ename": "NameError",
     "evalue": "name 'transformToGeoPoint' is not defined",
     "output_type": "error",
     "traceback": [
      "\u001b[0;31m---------------------------------------------------------------------------\u001b[0m",
      "\u001b[0;31mNameError\u001b[0m                                 Traceback (most recent call last)",
      "\u001b[0;32m<ipython-input-10-fb841a9d49be>\u001b[0m in \u001b[0;36m<module>\u001b[0;34m\u001b[0m\n\u001b[0;32m----> 1\u001b[0;31m \u001b[0mclean_offices\u001b[0m\u001b[0;34m[\u001b[0m\u001b[0;34m\"geopoint\"\u001b[0m\u001b[0;34m]\u001b[0m \u001b[0;34m=\u001b[0m \u001b[0mclean_offices\u001b[0m\u001b[0;34m.\u001b[0m\u001b[0mapply\u001b[0m\u001b[0;34m(\u001b[0m\u001b[0mtransformToGeoPoint\u001b[0m\u001b[0;34m,\u001b[0m \u001b[0maxis\u001b[0m\u001b[0;34m=\u001b[0m\u001b[0;36m1\u001b[0m\u001b[0;34m)\u001b[0m\u001b[0;34m\u001b[0m\u001b[0;34m\u001b[0m\u001b[0m\n\u001b[0m",
      "\u001b[0;31mNameError\u001b[0m: name 'transformToGeoPoint' is not defined"
     ]
    }
   ],
   "source": [
    "clean_offices[\"geopoint\"] = clean_offices.apply(transformToGeoPoint, axis=1)"
   ]
  },
  {
   "cell_type": "code",
   "execution_count": null,
   "metadata": {
    "scrolled": true
   },
   "outputs": [],
   "source": [
    "clean_offices.shape#(58, 14)\n",
    "clean_offices.head()"
   ]
  },
  {
   "cell_type": "code",
   "execution_count": null,
   "metadata": {},
   "outputs": [],
   "source": [
    "#I think I will do this later (this cell and the next one, first I am going to choose the city). To keep the id of each company, I rename de id columns into company_id and then I convert it to str to convert it to json\n",
    "clean_offices = clean_offices.rename(columns={\"_id\":\"company_id\"})\n",
    "clean_offices.shape"
   ]
  },
  {
   "cell_type": "code",
   "execution_count": null,
   "metadata": {},
   "outputs": [],
   "source": [
    "clean_offices[\"company_id\"] = clean_offices[\"company_id\"].apply(lambda e: str(e))\n",
    "#clean_offices.to_json(\"outputs/offices.json\",orient=\"records\")\n"
   ]
  },
  {
   "cell_type": "markdown",
   "metadata": {},
   "source": [
    "### Choosing my city"
   ]
  },
  {
   "cell_type": "markdown",
   "metadata": {},
   "source": [
    "I already filterd by those companies whose acquisition price amount was greater than 10000000. I understand that those companies are successful enough, and thus only these companies will be used for this approach. Once filtered, I don't need more information about that so I can clean that column from my dataset. \n",
    "I also chose \"modern\" companies, trying to select those companies that have conducted a quite recent market research. As this dataset is not updated and as I needed at least some of them for this study, I chose 2005 as the lower limit, but now I am going to go deeper into the founded year to try to find a modern one."
   ]
  },
  {
   "cell_type": "code",
   "execution_count": null,
   "metadata": {},
   "outputs": [],
   "source": [
    "clean_offices.head()"
   ]
  },
  {
   "cell_type": "markdown",
   "metadata": {},
   "source": [
    "The most successful companies are located in San Francisco, New York and London"
   ]
  },
  {
   "cell_type": "code",
   "execution_count": null,
   "metadata": {
    "scrolled": true
   },
   "outputs": [],
   "source": [
    "clean_offices[\"city\"].value_counts().head()"
   ]
  },
  {
   "cell_type": "markdown",
   "metadata": {},
   "source": [
    "Seven of them were founded in 2008"
   ]
  },
  {
   "cell_type": "code",
   "execution_count": null,
   "metadata": {},
   "outputs": [],
   "source": [
    "round(clean_offices[\"city\"].value_counts(normalize=True)*100).head()\n"
   ]
  },
  {
   "cell_type": "markdown",
   "metadata": {},
   "source": [
    "When I check to find in which cities were they founded, I can see that two of them were located in San Francisco and one of them in London, and remember that the most successful companies were place in SF, NY and London. \n",
    "Now I just have to choose between SF and London, as both places meet the conditions I think are best to undertake this project. \n",
    "My investors are from european, so I am pretty sure they will prefer London over San Francisco. \n",
    "Let's find whether in London they can be confortable. They have some requirements to fulfill."
   ]
  },
  {
   "cell_type": "code",
   "execution_count": null,
   "metadata": {},
   "outputs": [],
   "source": [
    "clean_offices[\"founded_year\"].value_counts()"
   ]
  },
  {
   "cell_type": "code",
   "execution_count": null,
   "metadata": {},
   "outputs": [],
   "source": [
    "clean_offices[\"city\"][clean_offices[\"founded_year\"]==2008].value_counts()\n"
   ]
  },
  {
   "cell_type": "markdown",
   "metadata": {},
   "source": [
    "## London, a successful and close place to break ground!\n",
    "\n",
    "As I read about London, I already see it meets some of the features we want to have: It has aeroports, it is successful, it is well known all over the world, and it is also known by being the greenest city in Europe. Its a confortable place with many cultures mixed, leisure actitivies and great economic activity and growth.  \n",
    "\n",
    "Let's investigate London a little bit (source:wikipedia):\n",
    "\n",
    "London is the capital and largest city of England and the United Kingdom. Standing on the River Thames in the south-east of England, at the head of its 50-mile (80 km) estuary leading to the North Sea, London has been a major settlement for two millennia. \n",
    "\n",
    "London is considered to be one of the world's most important global cities and has been called the **world's most powerful, most desirable, most influential, most visited, most expensive, sustainable, most investment-friendly,and most-popular-for-work city.** \n",
    "\n",
    "\n",
    "It exerts a considerable impact upon the arts, commerce, education, entertainment, fashion, finance, healthcare, media, professional services, **research and development**, tourism and transportation.London ranks 26th out of 300 major cities for economic performance.**It is one of the largest financial centres and has either the fifth- or the sixth-largest metropolitan area GDP.**\n",
    "\n",
    "It is the most-visited city as measured by international arrivals and has the **busiest city airport system as measured by passenger traffic**.\n",
    "\n",
    "London has a diverse range of people and cultures, and more than 300 languages are spoken in the region.\n",
    "\n",
    "**The London Underground is the oldest underground railway network in the world.**\n",
    "\n",
    "A 2013 report by the City of London Corporation said that London is the **\"greenest city\" in Europe with 35,000 acres of public parks, woodlands and gardens.**  The largest parks in the central area of London are three of the eight Royal Parks, namely Hyde Park and its neighbour Kensington Gardens in the west, and Regent's Park to the north. Hyde Park in particular is popular for sports and sometimes hosts open-air concerts. Regent's Park contains London Zoo, the world's oldest scientific zoo, and is near Madame Tussauds Wax Museum. Primrose Hill, immediately to the north of Regent's Park, at 256 feet (78 m) is a popular spot from which to view the city skyline."
   ]
  },
  {
   "cell_type": "markdown",
   "metadata": {},
   "source": [
    "## Companies in London\n",
    "\n",
    "I am going to investigate and keep information regarding the companies in London"
   ]
  },
  {
   "cell_type": "code",
   "execution_count": null,
   "metadata": {
    "scrolled": true
   },
   "outputs": [],
   "source": [
    "\n",
    "inlondon = clean_offices[clean_offices[\"city\"]==\"London\"]\n",
    "inlondon = inlondon[[\"name\", \"category_code\", \"founded_year\", \"latitude\",\"longitude\", \"geopoint\"]]\n",
    "inlondon"
   ]
  },
  {
   "cell_type": "code",
   "execution_count": null,
   "metadata": {},
   "outputs": [],
   "source": [
    "inlondon = inlondon.reset_index()\n",
    "inlondon"
   ]
  },
  {
   "cell_type": "code",
   "execution_count": null,
   "metadata": {},
   "outputs": [],
   "source": [
    "#I don't have geopoint information about Saffron Digital so I drop that company\n",
    "inlondon = inlondon.drop(inlondon.index[[3]])\n",
    "inlondon"
   ]
  },
  {
   "cell_type": "markdown",
   "metadata": {},
   "source": [
    "I save my final dataframe with three offices in london"
   ]
  }
 ],
 "metadata": {
  "kernelspec": {
   "display_name": "Python 3",
   "language": "python",
   "name": "python3"
  },
  "language_info": {
   "codemirror_mode": {
    "name": "ipython",
    "version": 3
   },
   "file_extension": ".py",
   "mimetype": "text/x-python",
   "name": "python",
   "nbconvert_exporter": "python",
   "pygments_lexer": "ipython3",
   "version": "3.8.2"
  }
 },
 "nbformat": 4,
 "nbformat_minor": 4
}
